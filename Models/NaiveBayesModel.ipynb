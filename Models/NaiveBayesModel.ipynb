{
 "cells": [
  {
   "cell_type": "code",
   "execution_count": 2,
   "metadata": {},
   "outputs": [
    {
     "name": "stderr",
     "output_type": "stream",
     "text": [
      "2022-05-16 10:06:03.695511: W tensorflow/stream_executor/platform/default/dso_loader.cc:64] Could not load dynamic library 'libcudart.so.11.0'; dlerror: libcudart.so.11.0: cannot open shared object file: No such file or directory\n",
      "2022-05-16 10:06:03.695610: I tensorflow/stream_executor/cuda/cudart_stub.cc:29] Ignore above cudart dlerror if you do not have a GPU set up on your machine.\n"
     ]
    }
   ],
   "source": [
    "import pandas\n",
    "from keras.models import Sequential\n",
    "from keras.layers import Dense\n",
    "from keras.wrappers.scikit_learn import KerasClassifier\n",
    "from keras.utils import np_utils\n",
    "from sklearn.model_selection import cross_val_score\n",
    "from sklearn.model_selection import KFold\n",
    "from sklearn.preprocessing import LabelEncoder\n",
    "from sklearn.pipeline import Pipeline\n",
    "import pandas as pd\n",
    "import numpy as np\n",
    "import matplotlib.pyplot as plt\n",
    "from sklearn.model_selection import train_test_split\n",
    "from sklearn.linear_model import LogisticRegression,LinearRegression\n",
    "from sklearn.naive_bayes import MultinomialNB,GaussianNB,BernoulliNB\n",
    "from sklearn.neighbors import NearestNeighbors\n",
    "from sklearn import tree\n",
    "from sklearn.neural_network import MLPClassifier\n",
    "from sklearn.ensemble import AdaBoostClassifier,RandomForestClassifier,GradientBoostingClassifier,GradientBoostingRegressor\n",
    "from sklearn.neighbors import NearestCentroid\n",
    "from sklearn import svm\n",
    "from sklearn.preprocessing import MinMaxScaler\n",
    "from sklearn.metrics import r2_score,accuracy_score\n",
    "\n",
    "from collections import Counter\n",
    "\n",
    "from statsmodels.stats.outliers_influence import variance_inflation_factor\n",
    "\n",
    "#plot\n",
    "import seaborn as sns"
   ]
  },
  {
   "cell_type": "markdown",
   "metadata": {},
   "source": [
    "# Loading Data"
   ]
  },
  {
   "cell_type": "code",
   "execution_count": 3,
   "metadata": {},
   "outputs": [],
   "source": [
    "data = pd.read_csv('../Data/Frog_Orccurence_Merged.csv') #read data\n",
    "df = data.drop(['Unnamed: 0','swe','crs','coord','min_lon','max_lon','min_lat','max_lat','ppt_station_influence','tmax_station_influence','tmin_station_influence','vap_station_influence','samples_count'], axis=1)\n",
    "df.dropna(inplace=True) #drop na\n",
    "data = df \n",
    "data['frog_c'] = data['frog_count'] #moving frog count at the last column\n",
    "del data['frog_count'] #delete frog_count"
   ]
  },
  {
   "cell_type": "markdown",
   "metadata": {},
   "source": [
    "# Creating multi-class labels & Encoding the values"
   ]
  },
  {
   "cell_type": "code",
   "execution_count": 4,
   "metadata": {},
   "outputs": [],
   "source": [
    "data['frog_c'] = pd.qcut(data.frog_c, q=[0, .1,.2,.3, .4,.5, .6,.7, .8,.9, 1], duplicates='drop') #cut frog count into 10 parts"
   ]
  },
  {
   "cell_type": "code",
   "execution_count": 5,
   "metadata": {},
   "outputs": [
    {
     "data": {
      "text/html": [
       "<div>\n",
       "<style scoped>\n",
       "    .dataframe tbody tr th:only-of-type {\n",
       "        vertical-align: middle;\n",
       "    }\n",
       "\n",
       "    .dataframe tbody tr th {\n",
       "        vertical-align: top;\n",
       "    }\n",
       "\n",
       "    .dataframe thead th {\n",
       "        text-align: right;\n",
       "    }\n",
       "</style>\n",
       "<table border=\"1\" class=\"dataframe\">\n",
       "  <thead>\n",
       "    <tr style=\"text-align: right;\">\n",
       "      <th></th>\n",
       "      <th>aet</th>\n",
       "      <th>def</th>\n",
       "      <th>pdsi</th>\n",
       "      <th>pet</th>\n",
       "      <th>ppt</th>\n",
       "      <th>q</th>\n",
       "      <th>soil</th>\n",
       "      <th>srad</th>\n",
       "      <th>tmax</th>\n",
       "      <th>tmin</th>\n",
       "      <th>vap</th>\n",
       "      <th>vpd</th>\n",
       "      <th>ws</th>\n",
       "      <th>frog_c</th>\n",
       "      <th>frog_count</th>\n",
       "    </tr>\n",
       "  </thead>\n",
       "  <tbody>\n",
       "    <tr>\n",
       "      <th>0</th>\n",
       "      <td>33.159744</td>\n",
       "      <td>13.974441</td>\n",
       "      <td>-1.817252</td>\n",
       "      <td>47.108627</td>\n",
       "      <td>78.827477</td>\n",
       "      <td>37.936102</td>\n",
       "      <td>75.667732</td>\n",
       "      <td>179.063904</td>\n",
       "      <td>7.195527</td>\n",
       "      <td>0.965816</td>\n",
       "      <td>0.634824</td>\n",
       "      <td>0.217764</td>\n",
       "      <td>2.868689</td>\n",
       "      <td>(0.999, 2.0]</td>\n",
       "      <td>0</td>\n",
       "    </tr>\n",
       "    <tr>\n",
       "      <th>1</th>\n",
       "      <td>43.688271</td>\n",
       "      <td>25.219135</td>\n",
       "      <td>-1.712036</td>\n",
       "      <td>68.907410</td>\n",
       "      <td>71.111115</td>\n",
       "      <td>27.459877</td>\n",
       "      <td>57.808643</td>\n",
       "      <td>177.817902</td>\n",
       "      <td>13.687646</td>\n",
       "      <td>6.064506</td>\n",
       "      <td>0.882685</td>\n",
       "      <td>0.413302</td>\n",
       "      <td>1.837037</td>\n",
       "      <td>(0.999, 2.0]</td>\n",
       "      <td>0</td>\n",
       "    </tr>\n",
       "    <tr>\n",
       "      <th>2</th>\n",
       "      <td>43.518520</td>\n",
       "      <td>29.419754</td>\n",
       "      <td>-1.662962</td>\n",
       "      <td>72.938271</td>\n",
       "      <td>64.114197</td>\n",
       "      <td>20.632716</td>\n",
       "      <td>40.885803</td>\n",
       "      <td>175.500000</td>\n",
       "      <td>16.011417</td>\n",
       "      <td>7.849073</td>\n",
       "      <td>0.983673</td>\n",
       "      <td>0.520617</td>\n",
       "      <td>1.531173</td>\n",
       "      <td>(2.0, 3.0]</td>\n",
       "      <td>1</td>\n",
       "    </tr>\n",
       "    <tr>\n",
       "      <th>3</th>\n",
       "      <td>43.132717</td>\n",
       "      <td>29.478395</td>\n",
       "      <td>-1.703086</td>\n",
       "      <td>72.589508</td>\n",
       "      <td>62.481480</td>\n",
       "      <td>19.373457</td>\n",
       "      <td>31.157408</td>\n",
       "      <td>174.320984</td>\n",
       "      <td>16.225307</td>\n",
       "      <td>7.935187</td>\n",
       "      <td>0.977161</td>\n",
       "      <td>0.551327</td>\n",
       "      <td>1.434567</td>\n",
       "      <td>(0.999, 2.0]</td>\n",
       "      <td>0</td>\n",
       "    </tr>\n",
       "    <tr>\n",
       "      <th>4</th>\n",
       "      <td>42.726852</td>\n",
       "      <td>31.567129</td>\n",
       "      <td>-1.737962</td>\n",
       "      <td>74.243057</td>\n",
       "      <td>58.335648</td>\n",
       "      <td>15.562500</td>\n",
       "      <td>29.722221</td>\n",
       "      <td>172.266205</td>\n",
       "      <td>17.848146</td>\n",
       "      <td>8.995373</td>\n",
       "      <td>1.068796</td>\n",
       "      <td>0.627268</td>\n",
       "      <td>1.276852</td>\n",
       "      <td>(29.0, 13920.0]</td>\n",
       "      <td>6</td>\n",
       "    </tr>\n",
       "    <tr>\n",
       "      <th>...</th>\n",
       "      <td>...</td>\n",
       "      <td>...</td>\n",
       "      <td>...</td>\n",
       "      <td>...</td>\n",
       "      <td>...</td>\n",
       "      <td>...</td>\n",
       "      <td>...</td>\n",
       "      <td>...</td>\n",
       "      <td>...</td>\n",
       "      <td>...</td>\n",
       "      <td>...</td>\n",
       "      <td>...</td>\n",
       "      <td>...</td>\n",
       "      <td>...</td>\n",
       "      <td>...</td>\n",
       "    </tr>\n",
       "    <tr>\n",
       "      <th>23368</th>\n",
       "      <td>46.930557</td>\n",
       "      <td>1.673611</td>\n",
       "      <td>0.285186</td>\n",
       "      <td>48.599537</td>\n",
       "      <td>128.680557</td>\n",
       "      <td>82.300926</td>\n",
       "      <td>38.729168</td>\n",
       "      <td>130.613419</td>\n",
       "      <td>9.076153</td>\n",
       "      <td>2.054861</td>\n",
       "      <td>0.740949</td>\n",
       "      <td>0.263032</td>\n",
       "      <td>7.082410</td>\n",
       "      <td>(3.0, 5.0]</td>\n",
       "      <td>2</td>\n",
       "    </tr>\n",
       "    <tr>\n",
       "      <th>23369</th>\n",
       "      <td>43.974998</td>\n",
       "      <td>3.097222</td>\n",
       "      <td>0.181389</td>\n",
       "      <td>47.063889</td>\n",
       "      <td>115.258331</td>\n",
       "      <td>71.211111</td>\n",
       "      <td>38.802776</td>\n",
       "      <td>128.677780</td>\n",
       "      <td>8.968613</td>\n",
       "      <td>1.621668</td>\n",
       "      <td>0.737861</td>\n",
       "      <td>0.267750</td>\n",
       "      <td>6.992777</td>\n",
       "      <td>(0.999, 2.0]</td>\n",
       "      <td>0</td>\n",
       "    </tr>\n",
       "    <tr>\n",
       "      <th>23370</th>\n",
       "      <td>41.994446</td>\n",
       "      <td>3.047222</td>\n",
       "      <td>0.368055</td>\n",
       "      <td>45.022221</td>\n",
       "      <td>112.455559</td>\n",
       "      <td>70.608333</td>\n",
       "      <td>39.658333</td>\n",
       "      <td>128.547226</td>\n",
       "      <td>9.012504</td>\n",
       "      <td>1.566112</td>\n",
       "      <td>0.750583</td>\n",
       "      <td>0.252445</td>\n",
       "      <td>7.133328</td>\n",
       "      <td>(0.999, 2.0]</td>\n",
       "      <td>0</td>\n",
       "    </tr>\n",
       "    <tr>\n",
       "      <th>23371</th>\n",
       "      <td>45.187500</td>\n",
       "      <td>3.067130</td>\n",
       "      <td>0.137038</td>\n",
       "      <td>48.261574</td>\n",
       "      <td>120.652779</td>\n",
       "      <td>75.256944</td>\n",
       "      <td>39.361111</td>\n",
       "      <td>128.155090</td>\n",
       "      <td>8.986574</td>\n",
       "      <td>1.611113</td>\n",
       "      <td>0.726482</td>\n",
       "      <td>0.275393</td>\n",
       "      <td>6.997914</td>\n",
       "      <td>(2.0, 3.0]</td>\n",
       "      <td>1</td>\n",
       "    </tr>\n",
       "    <tr>\n",
       "      <th>23372</th>\n",
       "      <td>43.414932</td>\n",
       "      <td>3.111111</td>\n",
       "      <td>0.313195</td>\n",
       "      <td>46.529514</td>\n",
       "      <td>117.817711</td>\n",
       "      <td>74.331597</td>\n",
       "      <td>39.888889</td>\n",
       "      <td>127.951385</td>\n",
       "      <td>8.957810</td>\n",
       "      <td>1.478646</td>\n",
       "      <td>0.734774</td>\n",
       "      <td>0.266024</td>\n",
       "      <td>7.082293</td>\n",
       "      <td>(5.0, 7.0]</td>\n",
       "      <td>3</td>\n",
       "    </tr>\n",
       "  </tbody>\n",
       "</table>\n",
       "<p>23277 rows × 15 columns</p>\n",
       "</div>"
      ],
      "text/plain": [
       "             aet        def      pdsi        pet         ppt          q  \\\n",
       "0      33.159744  13.974441 -1.817252  47.108627   78.827477  37.936102   \n",
       "1      43.688271  25.219135 -1.712036  68.907410   71.111115  27.459877   \n",
       "2      43.518520  29.419754 -1.662962  72.938271   64.114197  20.632716   \n",
       "3      43.132717  29.478395 -1.703086  72.589508   62.481480  19.373457   \n",
       "4      42.726852  31.567129 -1.737962  74.243057   58.335648  15.562500   \n",
       "...          ...        ...       ...        ...         ...        ...   \n",
       "23368  46.930557   1.673611  0.285186  48.599537  128.680557  82.300926   \n",
       "23369  43.974998   3.097222  0.181389  47.063889  115.258331  71.211111   \n",
       "23370  41.994446   3.047222  0.368055  45.022221  112.455559  70.608333   \n",
       "23371  45.187500   3.067130  0.137038  48.261574  120.652779  75.256944   \n",
       "23372  43.414932   3.111111  0.313195  46.529514  117.817711  74.331597   \n",
       "\n",
       "            soil        srad       tmax      tmin       vap       vpd  \\\n",
       "0      75.667732  179.063904   7.195527  0.965816  0.634824  0.217764   \n",
       "1      57.808643  177.817902  13.687646  6.064506  0.882685  0.413302   \n",
       "2      40.885803  175.500000  16.011417  7.849073  0.983673  0.520617   \n",
       "3      31.157408  174.320984  16.225307  7.935187  0.977161  0.551327   \n",
       "4      29.722221  172.266205  17.848146  8.995373  1.068796  0.627268   \n",
       "...          ...         ...        ...       ...       ...       ...   \n",
       "23368  38.729168  130.613419   9.076153  2.054861  0.740949  0.263032   \n",
       "23369  38.802776  128.677780   8.968613  1.621668  0.737861  0.267750   \n",
       "23370  39.658333  128.547226   9.012504  1.566112  0.750583  0.252445   \n",
       "23371  39.361111  128.155090   8.986574  1.611113  0.726482  0.275393   \n",
       "23372  39.888889  127.951385   8.957810  1.478646  0.734774  0.266024   \n",
       "\n",
       "             ws           frog_c  frog_count  \n",
       "0      2.868689     (0.999, 2.0]           0  \n",
       "1      1.837037     (0.999, 2.0]           0  \n",
       "2      1.531173       (2.0, 3.0]           1  \n",
       "3      1.434567     (0.999, 2.0]           0  \n",
       "4      1.276852  (29.0, 13920.0]           6  \n",
       "...         ...              ...         ...  \n",
       "23368  7.082410       (3.0, 5.0]           2  \n",
       "23369  6.992777     (0.999, 2.0]           0  \n",
       "23370  7.133328     (0.999, 2.0]           0  \n",
       "23371  6.997914       (2.0, 3.0]           1  \n",
       "23372  7.082293       (5.0, 7.0]           3  \n",
       "\n",
       "[23277 rows x 15 columns]"
      ]
     },
     "execution_count": 5,
     "metadata": {},
     "output_type": "execute_result"
    }
   ],
   "source": [
    "from sklearn.preprocessing import LabelEncoder #encode categorical data\n",
    "data['frog_count'] = LabelEncoder().fit_transform(data['frog_c']) #encode frog count\n",
    "data"
   ]
  },
  {
   "cell_type": "code",
   "execution_count": 6,
   "metadata": {},
   "outputs": [],
   "source": [
    "del data['frog_c'] #delete frog_c which cointains ranges"
   ]
  },
  {
   "cell_type": "markdown",
   "metadata": {},
   "source": [
    "# Removing Outliers"
   ]
  },
  {
   "cell_type": "code",
   "execution_count": 7,
   "metadata": {},
   "outputs": [],
   "source": [
    "#Capping the outliers at the 99th and 1st percentile.\n",
    "def outlier_capping(x): #x is a column\n",
    "    x = x.clip(upper = x.quantile(0.99)) #cap at 99% quantile\n",
    "    x = x.clip(lower = x.quantile(0.01)) #cap at 1% quantile\n",
    "    return x #return capped column\n",
    "\n",
    "data.iloc[:,0:-7]=data.iloc[:,0:-7].apply(lambda x: outlier_capping(x)) #apply outlier capping to all columns except frog_count"
   ]
  },
  {
   "cell_type": "markdown",
   "metadata": {},
   "source": [
    "# Splitting into Independent variables and target variables"
   ]
  },
  {
   "cell_type": "code",
   "execution_count": 8,
   "metadata": {},
   "outputs": [],
   "source": [
    "x = data.drop(['frog_count'], axis=1) #defining x as all columns except frog_count\n",
    "y = data[\"frog_count\"] #defining y as frog_count"
   ]
  },
  {
   "cell_type": "markdown",
   "metadata": {},
   "source": [
    "# Oversampling the data, using ADASYM"
   ]
  },
  {
   "cell_type": "code",
   "execution_count": 9,
   "metadata": {},
   "outputs": [
    {
     "name": "stdout",
     "output_type": "stream",
     "text": [
      "original dataset shape: Counter({0: 10403, 2: 2521, 4: 2334, 6: 2314, 5: 2198, 1: 2052, 3: 1455})\n",
      "Resample dataset shape Counter({1: 11291, 2: 11094, 3: 10668, 5: 10418, 0: 10403, 4: 10216, 6: 9670})\n"
     ]
    }
   ],
   "source": [
    "# import library\n",
    "from imblearn.over_sampling import ADASYN\n",
    "\n",
    "rus = ADASYN() #oversampling model\n",
    "\n",
    "# fit predictor and target varialbe\n",
    "x_rus, y_rus = rus.fit_resample(x, y)\n",
    "\n",
    "print('original dataset shape:', Counter(y))\n",
    "print('Resample dataset shape', Counter(y_rus))"
   ]
  },
  {
   "cell_type": "markdown",
   "metadata": {},
   "source": [
    "# Splitting the data into train and test"
   ]
  },
  {
   "cell_type": "code",
   "execution_count": 10,
   "metadata": {},
   "outputs": [],
   "source": [
    "X_train, X_test, y_train, y_test = train_test_split(x_rus, y_rus, test_size=0.3, random_state=42) #split data into train and test"
   ]
  },
  {
   "cell_type": "code",
   "execution_count": 11,
   "metadata": {},
   "outputs": [
    {
     "name": "stdout",
     "output_type": "stream",
     "text": [
      "(51632, 13)\n",
      "(51632,)\n",
      "(22128, 13)\n",
      "(22128,)\n"
     ]
    }
   ],
   "source": [
    "print(X_train.shape)\n",
    "print(y_train.shape)\n",
    "print(X_test.shape)\n",
    "print(y_test.shape)"
   ]
  },
  {
   "cell_type": "markdown",
   "metadata": {},
   "source": [
    "# Min Max Scaler"
   ]
  },
  {
   "cell_type": "code",
   "execution_count": 12,
   "metadata": {},
   "outputs": [],
   "source": [
    "# Data normalization using Minmaxscaler\n",
    "mm_scaler = MinMaxScaler() #minmax scaler\n",
    "X_train_mm = mm_scaler.fit_transform(X_train) #fit and transform train data\n",
    "X_test_mm = mm_scaler.transform(X_test) #transform test data"
   ]
  },
  {
   "cell_type": "markdown",
   "metadata": {},
   "source": [
    "# Analyzing and removing column based on VIF"
   ]
  },
  {
   "cell_type": "code",
   "execution_count": 13,
   "metadata": {},
   "outputs": [
    {
     "name": "stdout",
     "output_type": "stream",
     "text": [
      "  feature       VIF\n",
      "0     aet  7.080550\n",
      "1     def  2.394509\n",
      "2    pdsi  7.033203\n",
      "3       q  3.488960\n",
      "4    soil  6.827030\n",
      "5      ws  8.549731\n"
     ]
    }
   ],
   "source": [
    "# Generating VIF scores & dropping variables having high VIF to avoid multicollinearity\n",
    "F = pd.DataFrame(X_train_mm,columns=x.columns).drop(['vap','vpd','ppt','srad','pet','tmax','tmin'],axis=1) #defining F as train data without vap,vpd,ppt,srad,pet,tmax,tmin\n",
    "# VIF dataframe\n",
    "vif_data = pd.DataFrame() #empty dataframe\n",
    "vif_data[\"feature\"] = F.columns #feature column\n",
    "# calculating VIF for each feature\n",
    "vif_data[\"VIF\"] = [variance_inflation_factor(F.values, i) for i in range(len(F.columns))] #calculating VIF for each feature\n",
    "\n",
    "print(vif_data)"
   ]
  },
  {
   "cell_type": "code",
   "execution_count": 14,
   "metadata": {},
   "outputs": [],
   "source": [
    "#'crs','ppt','srad','def','pet','tmax','tmin\n",
    "X_train_mm=pd.DataFrame(X_train_mm,columns=x.columns).drop(['vap','vpd','ppt','srad','pet','tmax','tmin'],axis=1) #defining X_train_mm as train data without vap,vpd,ppt,srad,pet,tmax,tmin\n",
    "X_train_mm=X_train_mm.values\n",
    "X_test_mm=pd.DataFrame(X_test_mm,columns=x.columns).drop(['vap','vpd','ppt','srad','pet','tmax','tmin'],axis=1) #defining X_test_mm as test data without vap,vpd,ppt,srad,pet,tmax,tmin\n",
    "X_test_mm=X_test_mm.values"
   ]
  },
  {
   "cell_type": "code",
   "execution_count": 15,
   "metadata": {},
   "outputs": [
    {
     "name": "stdout",
     "output_type": "stream",
     "text": [
      "(51632, 6)\n",
      "(51632,)\n"
     ]
    }
   ],
   "source": [
    "print(X_train_mm.shape)\n",
    "print(y_train.shape)"
   ]
  },
  {
   "cell_type": "markdown",
   "metadata": {},
   "source": [
    "# Building Gaussian Naive Bayes Model"
   ]
  },
  {
   "cell_type": "code",
   "execution_count": 16,
   "metadata": {},
   "outputs": [
    {
     "data": {
      "image/png": "[encoded data removed]",
      "text/plain": [
       "<Figure size 720x720 with 1 Axes>"
      ]
     },
     "metadata": {
      "needs_background": "light"
     },
     "output_type": "display_data"
    }
   ],
   "source": [
    "#import naive bayes\n",
    "from sklearn.naive_bayes import GaussianNB\n",
    "GNB = GaussianNB() # Gaussian Naive Bayes\n",
    "GNB.fit(X_train_mm, y_train)  # fit model\n",
    "predicted = GNB.predict(X_test_mm) # predict on test data\n",
    "x = predicted #predicted values\n",
    "y = y_test #actual values\n",
    "plt.figure(figsize=(10,10)) #plot\n",
    "plt.scatter(y, x, c='crimson') #scatter plot\n",
    "p1 = max(max(x), max(y)) #max value\n",
    "p2 = min(min(x), min(y)) #min value \n",
    "plt.plot([p1, p2], [p1, p2], 'b-') #plot line\n",
    "acc =  GNB.score(X_test_mm, y_test) #accuracy\n",
    "plt.title('Gaussian NB \\n' + str(acc)) #title\n",
    "plt.xlabel('True Values', fontsize=15)\n",
    "plt.ylabel('Predictions', fontsize=15)\n",
    "plt.axis('equal')\n",
    "plt.show()"
   ]
  },
  {
   "cell_type": "code",
   "execution_count": 20,
   "metadata": {},
   "outputs": [
    {
     "data": {
      "text/plain": [
       "<AxesSubplot:>"
      ]
     },
     "execution_count": 20,
     "metadata": {},
     "output_type": "execute_result"
    },
    {
     "data": {
      "image/png": "[encoded data removed]",
      "text/plain": [
       "<Figure size 842.4x595.44 with 2 Axes>"
      ]
     },
     "metadata": {},
     "output_type": "display_data"
    }
   ],
   "source": [
    "from sklearn.metrics import confusion_matrix\n",
    "import seaborn as sns\n",
    "sns.set(rc={'figure.figsize':(11.7,8.27)})\n",
    "cm = pd.DataFrame(confusion_matrix(y_test, predicted), columns=[0,1,2,3,4,5,6], index=[0,1,2,3,4,5,6])\n",
    "sns.heatmap(cm, annot=True)"
   ]
  },
  {
   "cell_type": "code",
   "execution_count": 22,
   "metadata": {},
   "outputs": [
    {
     "name": "stdout",
     "output_type": "stream",
     "text": [
      "              precision    recall  f1-score   support\n",
      "\n",
      "           0       0.20      0.33      0.25      3115\n",
      "           1       0.18      0.10      0.12      3428\n",
      "           2       0.16      0.27      0.20      3387\n",
      "           3       0.16      0.19      0.17      3190\n",
      "           4       0.16      0.04      0.06      3048\n",
      "           5       0.19      0.10      0.13      3073\n",
      "           6       0.25      0.31      0.28      2887\n",
      "\n",
      "    accuracy                           0.19     22128\n",
      "   macro avg       0.19      0.19      0.17     22128\n",
      "weighted avg       0.19      0.19      0.17     22128\n",
      "\n"
     ]
    }
   ],
   "source": [
    "from sklearn import metrics\n",
    "print(metrics.classification_report(y, x))"
   ]
  },
  {
   "cell_type": "code",
   "execution_count": null,
   "metadata": {},
   "outputs": [],
   "source": []
  }
 ],
 "metadata": {
  "interpreter": {
   "hash": "8dbc17dd0b710eab1bd68a7dcef5e99b1fb0c313119666e584e933003c90a726"
  },
  "kernelspec": {
   "display_name": "Python 3.9.7 ('base')",
   "language": "python",
   "name": "python3"
  },
  "language_info": {
   "codemirror_mode": {
    "name": "ipython",
    "version": 3
   },
   "file_extension": ".py",
   "mimetype": "text/x-python",
   "name": "python",
   "nbconvert_exporter": "python",
   "pygments_lexer": "ipython3",
   "version": "3.9.7"
  },
  "orig_nbformat": 4
 },
 "nbformat": 4,
 "nbformat_minor": 2
}
